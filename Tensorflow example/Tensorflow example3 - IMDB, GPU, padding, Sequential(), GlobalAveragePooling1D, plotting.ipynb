{
 "cells": [
  {
   "cell_type": "code",
   "execution_count": 1,
   "metadata": {},
   "outputs": [
    {
     "name": "stdout",
     "output_type": "stream",
     "text": [
      "2.1.0\n"
     ]
    }
   ],
   "source": [
    "from __future__ import absolute_import, division, print_function, unicode_literals\n",
    "\n",
    "import tensorflow as tf\n",
    "from tensorflow import keras\n",
    "\n",
    "import numpy as np\n",
    "print(tf.__version__)"
   ]
  },
  {
   "cell_type": "code",
   "execution_count": 2,
   "metadata": {},
   "outputs": [],
   "source": [
    "imdb = keras.datasets.imdb\n",
    "\n",
    "(train_data, train_labels), (test_data, test_labels) = imdb.load_data(num_words=10000)"
   ]
  },
  {
   "cell_type": "code",
   "execution_count": 3,
   "metadata": {},
   "outputs": [
    {
     "name": "stdout",
     "output_type": "stream",
     "text": [
      "훈련 샘플: 25000, 레이블: 25000\n"
     ]
    }
   ],
   "source": [
    "print(\"훈련 샘플: {}, 레이블: {}\".format(len(train_data), len(train_labels)))"
   ]
  },
  {
   "cell_type": "code",
   "execution_count": 4,
   "metadata": {},
   "outputs": [
    {
     "name": "stdout",
     "output_type": "stream",
     "text": [
      "[1, 14, 22, 16, 43, 530, 973, 1622, 1385, 65, 458, 4468, 66, 3941, 4, 173, 36, 256, 5, 25, 100, 43, 838, 112, 50, 670, 2, 9, 35, 480, 284, 5, 150, 4, 172, 112, 167, 2, 336, 385, 39, 4, 172, 4536, 1111, 17, 546, 38, 13, 447, 4, 192, 50, 16, 6, 147, 2025, 19, 14, 22, 4, 1920, 4613, 469, 4, 22, 71, 87, 12, 16, 43, 530, 38, 76, 15, 13, 1247, 4, 22, 17, 515, 17, 12, 16, 626, 18, 2, 5, 62, 386, 12, 8, 316, 8, 106, 5, 4, 2223, 5244, 16, 480, 66, 3785, 33, 4, 130, 12, 16, 38, 619, 5, 25, 124, 51, 36, 135, 48, 25, 1415, 33, 6, 22, 12, 215, 28, 77, 52, 5, 14, 407, 16, 82, 2, 8, 4, 107, 117, 5952, 15, 256, 4, 2, 7, 3766, 5, 723, 36, 71, 43, 530, 476, 26, 400, 317, 46, 7, 4, 2, 1029, 13, 104, 88, 4, 381, 15, 297, 98, 32, 2071, 56, 26, 141, 6, 194, 7486, 18, 4, 226, 22, 21, 134, 476, 26, 480, 5, 144, 30, 5535, 18, 51, 36, 28, 224, 92, 25, 104, 4, 226, 65, 16, 38, 1334, 88, 12, 16, 283, 5, 16, 4472, 113, 103, 32, 15, 16, 5345, 19, 178, 32]\n"
     ]
    }
   ],
   "source": [
    "print(train_data[0])"
   ]
  },
  {
   "cell_type": "code",
   "execution_count": 5,
   "metadata": {},
   "outputs": [
    {
     "data": {
      "text/plain": [
       "(218, 189)"
      ]
     },
     "execution_count": 5,
     "metadata": {},
     "output_type": "execute_result"
    }
   ],
   "source": [
    "len(train_data[0]), len(train_data[1])"
   ]
  },
  {
   "cell_type": "code",
   "execution_count": 6,
   "metadata": {},
   "outputs": [],
   "source": [
    "# 단어와 정수 인덱스를 매핑한 딕셔너리\n",
    "word_index = imdb.get_word_index()\n",
    "\n",
    "# 처음 몇 개 인덱스는 사전에 정의되어 있습니다\n",
    "word_index = {k:(v+3) for k,v in word_index.items()}\n",
    "word_index[\"<PAD>\"] = 0\n",
    "word_index[\"<START>\"] = 1\n",
    "word_index[\"<UNK>\"] = 2 # unknown\n",
    "word_index[\"<UNUSED>\"] = 3\n",
    "\n",
    "reverse_word_index = dict([(value, key) for (key, value) in word_index.items()])\n",
    "\n",
    "def decode_review(text):\n",
    "    return ' '.join([reverse_word_index.get(i, '?') for i in text])"
   ]
  },
  {
   "cell_type": "code",
   "execution_count": 7,
   "metadata": {},
   "outputs": [
    {
     "data": {
      "text/plain": [
       "\"<START> this film was just brilliant casting location scenery story direction everyone's really suited the part they played and you could just imagine being there robert <UNK> is an amazing actor and now the same being director <UNK> father came from the same scottish island as myself so i loved the fact there was a real connection with this film the witty remarks throughout the film were great it was just brilliant so much that i bought the film as soon as it was released for <UNK> and would recommend it to everyone to watch and the fly fishing was amazing really cried at the end it was so sad and you know what they say if you cry at a film it must have been good and this definitely was also <UNK> to the two little boy's that played the <UNK> of norman and paul they were just brilliant children are often left out of the <UNK> list i think because the stars that play them all grown up are such a big profile for the whole film but these children are amazing and should be praised for what they have done don't you think the whole story was so lovely because it was true and was someone's life after all that was shared with us all\""
      ]
     },
     "execution_count": 7,
     "metadata": {},
     "output_type": "execute_result"
    }
   ],
   "source": [
    "decode_review(train_data[0])"
   ]
  },
  {
   "cell_type": "code",
   "execution_count": 8,
   "metadata": {},
   "outputs": [],
   "source": [
    "train_data = keras.preprocessing.sequence.pad_sequences(train_data,\n",
    "                                                       value=word_index[\"<PAD>\"],\n",
    "                                                       padding='post',\n",
    "                                                       maxlen=256)\n",
    "\n",
    "test_data = keras.preprocessing.sequence.pad_sequences(test_data,\n",
    "                                                      value=word_index[\"<PAD>\"],\n",
    "                                                      padding='post',\n",
    "                                                      maxlen=256)"
   ]
  },
  {
   "cell_type": "code",
   "execution_count": 9,
   "metadata": {},
   "outputs": [
    {
     "data": {
      "text/plain": [
       "(256, 256)"
      ]
     },
     "execution_count": 9,
     "metadata": {},
     "output_type": "execute_result"
    }
   ],
   "source": [
    "len(train_data[0]), len(train_data[1])"
   ]
  },
  {
   "cell_type": "code",
   "execution_count": 10,
   "metadata": {},
   "outputs": [
    {
     "name": "stdout",
     "output_type": "stream",
     "text": [
      "[   1   14   22   16   43  530  973 1622 1385   65  458 4468   66 3941\n",
      "    4  173   36  256    5   25  100   43  838  112   50  670    2    9\n",
      "   35  480  284    5  150    4  172  112  167    2  336  385   39    4\n",
      "  172 4536 1111   17  546   38   13  447    4  192   50   16    6  147\n",
      " 2025   19   14   22    4 1920 4613  469    4   22   71   87   12   16\n",
      "   43  530   38   76   15   13 1247    4   22   17  515   17   12   16\n",
      "  626   18    2    5   62  386   12    8  316    8  106    5    4 2223\n",
      " 5244   16  480   66 3785   33    4  130   12   16   38  619    5   25\n",
      "  124   51   36  135   48   25 1415   33    6   22   12  215   28   77\n",
      "   52    5   14  407   16   82    2    8    4  107  117 5952   15  256\n",
      "    4    2    7 3766    5  723   36   71   43  530  476   26  400  317\n",
      "   46    7    4    2 1029   13  104   88    4  381   15  297   98   32\n",
      " 2071   56   26  141    6  194 7486   18    4  226   22   21  134  476\n",
      "   26  480    5  144   30 5535   18   51   36   28  224   92   25  104\n",
      "    4  226   65   16   38 1334   88   12   16  283    5   16 4472  113\n",
      "  103   32   15   16 5345   19  178   32    0    0    0    0    0    0\n",
      "    0    0    0    0    0    0    0    0    0    0    0    0    0    0\n",
      "    0    0    0    0    0    0    0    0    0    0    0    0    0    0\n",
      "    0    0    0    0]\n"
     ]
    }
   ],
   "source": [
    "print(train_data[0])"
   ]
  },
  {
   "cell_type": "code",
   "execution_count": 11,
   "metadata": {},
   "outputs": [
    {
     "name": "stdout",
     "output_type": "stream",
     "text": [
      "Model: \"sequential\"\n",
      "_________________________________________________________________\n",
      "Layer (type)                 Output Shape              Param #   \n",
      "=================================================================\n",
      "embedding (Embedding)        (None, None, 16)          160000    \n",
      "_________________________________________________________________\n",
      "global_average_pooling1d (Gl (None, 16)                0         \n",
      "_________________________________________________________________\n",
      "dense (Dense)                (None, 16)                272       \n",
      "_________________________________________________________________\n",
      "dense_1 (Dense)              (None, 1)                 17        \n",
      "=================================================================\n",
      "Total params: 160,289\n",
      "Trainable params: 160,289\n",
      "Non-trainable params: 0\n",
      "_________________________________________________________________\n"
     ]
    }
   ],
   "source": [
    "# 입력 크기는 영화 리뷰 데이터셋에 적용된 어휘 사전의 크기입니다(10,000개의 단어)\n",
    "vocab_size = 10000\n",
    "\n",
    "model = keras.Sequential()\n",
    "model.add(keras.layers.Embedding(vocab_size, 16, input_shape=(None,)))\n",
    "model.add(keras.layers.GlobalAveragePooling1D())\n",
    "model.add(keras.layers.Dense(16, activation='relu'))\n",
    "model.add(keras.layers.Dense(1, activation='sigmoid'))\n",
    "\n",
    "model.summary()"
   ]
  },
  {
   "cell_type": "code",
   "execution_count": 12,
   "metadata": {
    "scrolled": true
   },
   "outputs": [],
   "source": [
    "model.compile(optimizer='adam',\n",
    "             loss='binary_crossentropy',\n",
    "             metrics=['accuracy'])\n"
   ]
  },
  {
   "cell_type": "code",
   "execution_count": 13,
   "metadata": {},
   "outputs": [],
   "source": [
    "x_val = train_data[:10000]\n",
    "partial_x_train = train_data[10000:]\n",
    "\n",
    "y_val = train_labels[:10000]\n",
    "partial_y_train = train_labels[10000:]\n"
   ]
  },
  {
   "cell_type": "code",
   "execution_count": 14,
   "metadata": {},
   "outputs": [
    {
     "name": "stdout",
     "output_type": "stream",
     "text": [
      "Train on 15000 samples, validate on 10000 samples\n",
      "Epoch 1/40\n",
      "15000/15000 [==============================] - 1s 87us/sample - loss: 0.6923 - accuracy: 0.5562 - val_loss: 0.6906 - val_accuracy: 0.6716\n",
      "Epoch 2/40\n",
      "15000/15000 [==============================] - 1s 37us/sample - loss: 0.6875 - accuracy: 0.7222 - val_loss: 0.6841 - val_accuracy: 0.7153\n",
      "Epoch 3/40\n",
      "15000/15000 [==============================] - 1s 37us/sample - loss: 0.6775 - accuracy: 0.7373 - val_loss: 0.6715 - val_accuracy: 0.7458\n",
      "Epoch 4/40\n",
      "15000/15000 [==============================] - 1s 37us/sample - loss: 0.6594 - accuracy: 0.7699 - val_loss: 0.6502 - val_accuracy: 0.7574\n",
      "Epoch 5/40\n",
      "15000/15000 [==============================] - 1s 38us/sample - loss: 0.6312 - accuracy: 0.7834 - val_loss: 0.6197 - val_accuracy: 0.7742\n",
      "Epoch 6/40\n",
      "15000/15000 [==============================] - 1s 38us/sample - loss: 0.5935 - accuracy: 0.8008 - val_loss: 0.5824 - val_accuracy: 0.7946\n",
      "Epoch 7/40\n",
      "15000/15000 [==============================] - 1s 38us/sample - loss: 0.5497 - accuracy: 0.8213 - val_loss: 0.5404 - val_accuracy: 0.8091\n",
      "Epoch 8/40\n",
      "15000/15000 [==============================] - 1s 38us/sample - loss: 0.5034 - accuracy: 0.8391 - val_loss: 0.4988 - val_accuracy: 0.8232\n",
      "Epoch 9/40\n",
      "15000/15000 [==============================] - 1s 37us/sample - loss: 0.4587 - accuracy: 0.8526 - val_loss: 0.4614 - val_accuracy: 0.8380\n",
      "Epoch 10/40\n",
      "15000/15000 [==============================] - 1s 37us/sample - loss: 0.4186 - accuracy: 0.8648 - val_loss: 0.4279 - val_accuracy: 0.8485\n",
      "Epoch 11/40\n",
      "15000/15000 [==============================] - 1s 37us/sample - loss: 0.3839 - accuracy: 0.8746 - val_loss: 0.4009 - val_accuracy: 0.8540\n",
      "Epoch 12/40\n",
      "15000/15000 [==============================] - 1s 38us/sample - loss: 0.3544 - accuracy: 0.8835 - val_loss: 0.3787 - val_accuracy: 0.8591\n",
      "Epoch 13/40\n",
      "15000/15000 [==============================] - 1s 39us/sample - loss: 0.3297 - accuracy: 0.8898 - val_loss: 0.3616 - val_accuracy: 0.8623\n",
      "Epoch 14/40\n",
      "15000/15000 [==============================] - 1s 39us/sample - loss: 0.3092 - accuracy: 0.8945 - val_loss: 0.3481 - val_accuracy: 0.8656\n",
      "Epoch 15/40\n",
      "15000/15000 [==============================] - 1s 38us/sample - loss: 0.2903 - accuracy: 0.9009 - val_loss: 0.3352 - val_accuracy: 0.8706\n",
      "Epoch 16/40\n",
      "15000/15000 [==============================] - 1s 38us/sample - loss: 0.2742 - accuracy: 0.9055 - val_loss: 0.3259 - val_accuracy: 0.8723\n",
      "Epoch 17/40\n",
      "15000/15000 [==============================] - 1s 38us/sample - loss: 0.2600 - accuracy: 0.9104 - val_loss: 0.3174 - val_accuracy: 0.8761\n",
      "Epoch 18/40\n",
      "15000/15000 [==============================] - 1s 38us/sample - loss: 0.2470 - accuracy: 0.9148 - val_loss: 0.3107 - val_accuracy: 0.8782\n",
      "Epoch 19/40\n",
      "15000/15000 [==============================] - 1s 37us/sample - loss: 0.2353 - accuracy: 0.9190 - val_loss: 0.3056 - val_accuracy: 0.8794\n",
      "Epoch 20/40\n",
      "15000/15000 [==============================] - 1s 37us/sample - loss: 0.2249 - accuracy: 0.9225 - val_loss: 0.3010 - val_accuracy: 0.8791\n",
      "Epoch 21/40\n",
      "15000/15000 [==============================] - 1s 38us/sample - loss: 0.2147 - accuracy: 0.9271 - val_loss: 0.2964 - val_accuracy: 0.8821\n",
      "Epoch 22/40\n",
      "15000/15000 [==============================] - 1s 37us/sample - loss: 0.2055 - accuracy: 0.9294 - val_loss: 0.2934 - val_accuracy: 0.8825\n",
      "Epoch 23/40\n",
      "15000/15000 [==============================] - 1s 37us/sample - loss: 0.1964 - accuracy: 0.9328 - val_loss: 0.2911 - val_accuracy: 0.8839\n",
      "Epoch 24/40\n",
      "15000/15000 [==============================] - 1s 38us/sample - loss: 0.1887 - accuracy: 0.9363 - val_loss: 0.2894 - val_accuracy: 0.8839\n",
      "Epoch 25/40\n",
      "15000/15000 [==============================] - 1s 37us/sample - loss: 0.1808 - accuracy: 0.9405 - val_loss: 0.2871 - val_accuracy: 0.8848\n",
      "Epoch 26/40\n",
      "15000/15000 [==============================] - 1s 38us/sample - loss: 0.1738 - accuracy: 0.9438 - val_loss: 0.2864 - val_accuracy: 0.8847\n",
      "Epoch 27/40\n",
      "15000/15000 [==============================] - 1s 37us/sample - loss: 0.1666 - accuracy: 0.9471 - val_loss: 0.2859 - val_accuracy: 0.8845\n",
      "Epoch 28/40\n",
      "15000/15000 [==============================] - 1s 37us/sample - loss: 0.1602 - accuracy: 0.9501 - val_loss: 0.2854 - val_accuracy: 0.8858\n",
      "Epoch 29/40\n",
      "15000/15000 [==============================] - 1s 38us/sample - loss: 0.1542 - accuracy: 0.9517 - val_loss: 0.2856 - val_accuracy: 0.8853\n",
      "Epoch 30/40\n",
      "15000/15000 [==============================] - 1s 37us/sample - loss: 0.1483 - accuracy: 0.9539 - val_loss: 0.2858 - val_accuracy: 0.8856\n",
      "Epoch 31/40\n",
      "15000/15000 [==============================] - 1s 38us/sample - loss: 0.1428 - accuracy: 0.9571 - val_loss: 0.2868 - val_accuracy: 0.8852\n",
      "Epoch 32/40\n",
      "15000/15000 [==============================] - 1s 38us/sample - loss: 0.1383 - accuracy: 0.9592 - val_loss: 0.2876 - val_accuracy: 0.8856\n",
      "Epoch 33/40\n",
      "15000/15000 [==============================] - 1s 38us/sample - loss: 0.1324 - accuracy: 0.9614 - val_loss: 0.2886 - val_accuracy: 0.8861\n",
      "Epoch 34/40\n",
      "15000/15000 [==============================] - 1s 38us/sample - loss: 0.1278 - accuracy: 0.9632 - val_loss: 0.2906 - val_accuracy: 0.8861\n",
      "Epoch 35/40\n",
      "15000/15000 [==============================] - 1s 38us/sample - loss: 0.1233 - accuracy: 0.9643 - val_loss: 0.2923 - val_accuracy: 0.8857\n",
      "Epoch 36/40\n",
      "15000/15000 [==============================] - 1s 37us/sample - loss: 0.1188 - accuracy: 0.9664 - val_loss: 0.2940 - val_accuracy: 0.8860\n",
      "Epoch 37/40\n",
      "15000/15000 [==============================] - 1s 38us/sample - loss: 0.1141 - accuracy: 0.9683 - val_loss: 0.2973 - val_accuracy: 0.8836\n",
      "Epoch 38/40\n",
      "15000/15000 [==============================] - 1s 37us/sample - loss: 0.1103 - accuracy: 0.9694 - val_loss: 0.2990 - val_accuracy: 0.8843\n",
      "Epoch 39/40\n",
      "15000/15000 [==============================] - 1s 37us/sample - loss: 0.1066 - accuracy: 0.9699 - val_loss: 0.3019 - val_accuracy: 0.8829\n",
      "Epoch 40/40\n",
      "15000/15000 [==============================] - 1s 37us/sample - loss: 0.1027 - accuracy: 0.9713 - val_loss: 0.3033 - val_accuracy: 0.8842\n"
     ]
    }
   ],
   "source": [
    "history = model.fit(partial_x_train,\n",
    "                    partial_y_train,\n",
    "                    epochs=40,\n",
    "                    batch_size=512,\n",
    "                    validation_data=(x_val, y_val),\n",
    "                    verbose=1)"
   ]
  },
  {
   "cell_type": "code",
   "execution_count": 15,
   "metadata": {},
   "outputs": [
    {
     "name": "stdout",
     "output_type": "stream",
     "text": [
      "25000/25000 - 1s - loss: 0.3229 - accuracy: 0.8734\n",
      "[0.3228954760503769, 0.87336]\n"
     ]
    }
   ],
   "source": [
    "results = model.evaluate(test_data, test_labels, verbose=2)\n",
    "print(results)"
   ]
  },
  {
   "cell_type": "code",
   "execution_count": 16,
   "metadata": {},
   "outputs": [
    {
     "data": {
      "text/plain": [
       "dict_keys(['loss', 'accuracy', 'val_loss', 'val_accuracy'])"
      ]
     },
     "execution_count": 16,
     "metadata": {},
     "output_type": "execute_result"
    }
   ],
   "source": [
    "history_dict = history.history\n",
    "history_dict.keys()"
   ]
  },
  {
   "cell_type": "code",
   "execution_count": 17,
   "metadata": {},
   "outputs": [
    {
     "data": {
      "image/png": "[encoded data removed]",
      "text/plain": [
       "<Figure size 432x288 with 1 Axes>"
      ]
     },
     "metadata": {
      "needs_background": "light"
     },
     "output_type": "display_data"
    }
   ],
   "source": [
    "import matplotlib.pyplot as plt\n",
    "\n",
    "acc = history_dict['accuracy']\n",
    "val_acc = history_dict['val_accuracy']\n",
    "loss = history_dict['loss']\n",
    "val_loss = history_dict['val_loss']\n",
    "\n",
    "epochs = range(1, len(acc) + 1)\n",
    "\n",
    "# \"bo\"는 \"파란색 점\"입니다\n",
    "plt.plot(epochs, loss, 'bo', label='Training loss')\n",
    "# b는 \"파란 실선\"입니다\n",
    "plt.plot(epochs, val_loss, 'b', label='Validation loss')\n",
    "plt.title('Training and validation loss')\n",
    "plt.xlabel('Epochs')\n",
    "plt.ylabel('Loss')\n",
    "plt.legend()\n",
    "\n",
    "plt.show()\n"
   ]
  },
  {
   "cell_type": "code",
   "execution_count": 18,
   "metadata": {},
   "outputs": [
    {
     "data": {
      "image/png": "[encoded data removed]",
      "text/plain": [
       "<Figure size 432x288 with 1 Axes>"
      ]
     },
     "metadata": {
      "needs_background": "light"
     },
     "output_type": "display_data"
    }
   ],
   "source": [
    "plt.clf()\n",
    "\n",
    "plt.plot(epochs, acc, 'bo', label='Training acc')\n",
    "plt.plot(epochs, val_acc, 'b', label='Validation acc')\n",
    "plt.title('Training and validation accuracy')\n",
    "plt.xlabel('Epochs')\n",
    "plt.ylabel('Accuracy')\n",
    "plt.legend()\n",
    "\n",
    "plt.show()"
   ]
  },
  {
   "cell_type": "code",
   "execution_count": null,
   "metadata": {},
   "outputs": [],
   "source": []
  }
 ],
 "metadata": {
  "kernelspec": {
   "display_name": "Python 3",
   "language": "python",
   "name": "python3"
  },
  "language_info": {
   "codemirror_mode": {
    "name": "ipython",
    "version": 3
   },
   "file_extension": ".py",
   "mimetype": "text/x-python",
   "name": "python",
   "nbconvert_exporter": "python",
   "pygments_lexer": "ipython3",
   "version": "3.7.6"
  }
 },
 "nbformat": 4,
 "nbformat_minor": 4
}
